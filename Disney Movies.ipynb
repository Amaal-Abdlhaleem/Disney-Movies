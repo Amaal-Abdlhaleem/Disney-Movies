{
 "cells": [
  {
   "cell_type": "markdown",
   "metadata": {},
   "source": [
    "# Disney Movies\n",
    "\n",
    "In this project, I will analyse data which is related to Disney movies to know more about it.\n",
    "\n",
    "This project will answer some questions such as:\n",
    "\n",
    "- What is the number of movies per genre?\n",
    "- What is the top 10 movies which have huge total gross?\n",
    "- What is the number of movies per MPAA rating?\n",
    "    \n",
    "    \n"
   ]
  },
  {
   "cell_type": "markdown",
   "metadata": {},
   "source": [
    "## Accessing and exploring the data\n",
    "\n",
    "We have 5 files:\n",
    "\n",
    "- disney_characters.\n",
    "- disney_director.\n",
    "- disney_movies_total_gross.\n",
    "- disney_revenue_1991_2016.\n",
    "- disney_voice_actors.\n",
    "\n",
    "Let's access (disney_movies_total_gross) file because it has our scope of answers.\n"
   ]
  },
  {
   "cell_type": "code",
   "execution_count": 1,
   "metadata": {},
   "outputs": [],
   "source": [
    "#Access file using pandas to import file in the form of dataframe\n",
    "import pandas as pd\n",
    "df = pd.read_csv('D:\\Data Science\\Disney Data\\kgarrett-disney-character-success-00-16\\data\\disney_movies_total_gross.csv')"
   ]
  },
  {
   "cell_type": "code",
   "execution_count": 2,
   "metadata": {},
   "outputs": [
    {
     "data": {
      "text/html": [
       "<div>\n",
       "<style scoped>\n",
       "    .dataframe tbody tr th:only-of-type {\n",
       "        vertical-align: middle;\n",
       "    }\n",
       "\n",
       "    .dataframe tbody tr th {\n",
       "        vertical-align: top;\n",
       "    }\n",
       "\n",
       "    .dataframe thead th {\n",
       "        text-align: right;\n",
       "    }\n",
       "</style>\n",
       "<table border=\"1\" class=\"dataframe\">\n",
       "  <thead>\n",
       "    <tr style=\"text-align: right;\">\n",
       "      <th></th>\n",
       "      <th>movie_title</th>\n",
       "      <th>release_date</th>\n",
       "      <th>genre</th>\n",
       "      <th>mpaa_rating</th>\n",
       "      <th>total_gross</th>\n",
       "      <th>inflation_adjusted_gross</th>\n",
       "    </tr>\n",
       "  </thead>\n",
       "  <tbody>\n",
       "    <tr>\n",
       "      <th>0</th>\n",
       "      <td>Snow White and the Seven Dwarfs</td>\n",
       "      <td>1937-12-21</td>\n",
       "      <td>Musical</td>\n",
       "      <td>G</td>\n",
       "      <td>184925485</td>\n",
       "      <td>5228953251</td>\n",
       "    </tr>\n",
       "    <tr>\n",
       "      <th>1</th>\n",
       "      <td>Pinocchio</td>\n",
       "      <td>1940-02-09</td>\n",
       "      <td>Adventure</td>\n",
       "      <td>G</td>\n",
       "      <td>84300000</td>\n",
       "      <td>2188229052</td>\n",
       "    </tr>\n",
       "    <tr>\n",
       "      <th>2</th>\n",
       "      <td>Fantasia</td>\n",
       "      <td>1940-11-13</td>\n",
       "      <td>Musical</td>\n",
       "      <td>G</td>\n",
       "      <td>83320000</td>\n",
       "      <td>2187090808</td>\n",
       "    </tr>\n",
       "    <tr>\n",
       "      <th>3</th>\n",
       "      <td>Song of the South</td>\n",
       "      <td>1946-11-12</td>\n",
       "      <td>Adventure</td>\n",
       "      <td>G</td>\n",
       "      <td>65000000</td>\n",
       "      <td>1078510579</td>\n",
       "    </tr>\n",
       "    <tr>\n",
       "      <th>4</th>\n",
       "      <td>Cinderella</td>\n",
       "      <td>1950-02-15</td>\n",
       "      <td>Drama</td>\n",
       "      <td>G</td>\n",
       "      <td>85000000</td>\n",
       "      <td>920608730</td>\n",
       "    </tr>\n",
       "  </tbody>\n",
       "</table>\n",
       "</div>"
      ],
      "text/plain": [
       "                       movie_title release_date      genre mpaa_rating  \\\n",
       "0  Snow White and the Seven Dwarfs   1937-12-21    Musical           G   \n",
       "1                        Pinocchio   1940-02-09  Adventure           G   \n",
       "2                         Fantasia   1940-11-13    Musical           G   \n",
       "3                Song of the South   1946-11-12  Adventure           G   \n",
       "4                       Cinderella   1950-02-15      Drama           G   \n",
       "\n",
       "   total_gross  inflation_adjusted_gross  \n",
       "0    184925485                5228953251  \n",
       "1     84300000                2188229052  \n",
       "2     83320000                2187090808  \n",
       "3     65000000                1078510579  \n",
       "4     85000000                 920608730  "
      ]
     },
     "execution_count": 2,
     "metadata": {},
     "output_type": "execute_result"
    }
   ],
   "source": [
    "#Print top 5 rows of df\n",
    "df.head()"
   ]
  },
  {
   "cell_type": "code",
   "execution_count": 3,
   "metadata": {},
   "outputs": [
    {
     "data": {
      "text/plain": [
       "(579, 6)"
      ]
     },
     "execution_count": 3,
     "metadata": {},
     "output_type": "execute_result"
    }
   ],
   "source": [
    "#Know how many rows and column in the df\n",
    "df.shape"
   ]
  },
  {
   "cell_type": "code",
   "execution_count": 4,
   "metadata": {},
   "outputs": [
    {
     "name": "stdout",
     "output_type": "stream",
     "text": [
      "<class 'pandas.core.frame.DataFrame'>\n",
      "RangeIndex: 579 entries, 0 to 578\n",
      "Data columns (total 6 columns):\n",
      " #   Column                    Non-Null Count  Dtype \n",
      "---  ------                    --------------  ----- \n",
      " 0   movie_title               579 non-null    object\n",
      " 1   release_date              579 non-null    object\n",
      " 2   genre                     562 non-null    object\n",
      " 3   mpaa_rating               523 non-null    object\n",
      " 4   total_gross               579 non-null    int64 \n",
      " 5   inflation_adjusted_gross  579 non-null    int64 \n",
      "dtypes: int64(2), object(4)\n",
      "memory usage: 27.3+ KB\n"
     ]
    }
   ],
   "source": [
    "#Know more information about our df such as column, number of its non-null values and its data type\n",
    "df.info()"
   ]
  },
  {
   "cell_type": "code",
   "execution_count": 5,
   "metadata": {},
   "outputs": [
    {
     "data": {
      "text/plain": [
       "0"
      ]
     },
     "execution_count": 5,
     "metadata": {},
     "output_type": "execute_result"
    }
   ],
   "source": [
    "#Know about number of duplicated rows\n",
    "df.duplicated().sum()"
   ]
  },
  {
   "cell_type": "code",
   "execution_count": 6,
   "metadata": {},
   "outputs": [
    {
     "data": {
      "text/plain": [
       "6"
      ]
     },
     "execution_count": 6,
     "metadata": {},
     "output_type": "execute_result"
    }
   ],
   "source": [
    "df['movie_title'].duplicated().sum()"
   ]
  },
  {
   "cell_type": "code",
   "execution_count": 7,
   "metadata": {},
   "outputs": [
    {
     "data": {
      "text/plain": [
       "movie_title                  0\n",
       "release_date                 0\n",
       "genre                       17\n",
       "mpaa_rating                 56\n",
       "total_gross                  0\n",
       "inflation_adjusted_gross     0\n",
       "dtype: int64"
      ]
     },
     "execution_count": 7,
     "metadata": {},
     "output_type": "execute_result"
    }
   ],
   "source": [
    "#Know about number of null values\n",
    "df.isna().sum()"
   ]
  },
  {
   "cell_type": "code",
   "execution_count": 8,
   "metadata": {},
   "outputs": [
    {
     "data": {
      "text/plain": [
       "movie_title                 573\n",
       "release_date                553\n",
       "genre                        12\n",
       "mpaa_rating                   5\n",
       "total_gross                 576\n",
       "inflation_adjusted_gross    576\n",
       "dtype: int64"
      ]
     },
     "execution_count": 8,
     "metadata": {},
     "output_type": "execute_result"
    }
   ],
   "source": [
    "#Know about the number of unique values\n",
    "df.nunique()"
   ]
  },
  {
   "cell_type": "code",
   "execution_count": 9,
   "metadata": {},
   "outputs": [
    {
     "data": {
      "text/plain": [
       "Comedy                 182\n",
       "Adventure              129\n",
       "Drama                  114\n",
       "Action                  40\n",
       "Thriller/Suspense       24\n",
       "Romantic Comedy         23\n",
       "Musical                 16\n",
       "Documentary             16\n",
       "Western                  7\n",
       "Horror                   6\n",
       "Black Comedy             3\n",
       "Concert/Performance      2\n",
       "Name: genre, dtype: int64"
      ]
     },
     "execution_count": 9,
     "metadata": {},
     "output_type": "execute_result"
    }
   ],
   "source": [
    "#Explore genres of movies\n",
    "df['genre'].value_counts()"
   ]
  },
  {
   "cell_type": "code",
   "execution_count": 10,
   "metadata": {},
   "outputs": [
    {
     "data": {
      "text/plain": [
       "PG           187\n",
       "PG-13        145\n",
       "R            102\n",
       "G             86\n",
       "Not Rated      3\n",
       "Name: mpaa_rating, dtype: int64"
      ]
     },
     "execution_count": 10,
     "metadata": {},
     "output_type": "execute_result"
    }
   ],
   "source": [
    "#Explore types of rating\n",
    "df['mpaa_rating'].value_counts()"
   ]
  },
  {
   "cell_type": "markdown",
   "metadata": {},
   "source": [
    "## Cleaning The Data File\n",
    "\n",
    "After accessing and exploring the data file to know more about data and define the problems, Let's say that we need to:\n",
    "\n",
    "- Rename (mpaa_rating) column to (rating), That's will be more easy.\n",
    "- Drop rows which have null values in (mpaa_rating) and (genre) column.\n",
    "- Convert data type of (release_date) column to datetime.\n",
    "- Make (mpaa_rating) column data more understandable by rename rating levels.\n",
    "\n",
    "Let's start!\n",
    "\n",
    "### Rename Column"
   ]
  },
  {
   "cell_type": "code",
   "execution_count": 11,
   "metadata": {},
   "outputs": [],
   "source": [
    "#Load data\n",
    "import pandas as pd\n",
    "df = pd.read_csv('D:\\Data Science\\Disney Data\\kgarrett-disney-character-success-00-16\\data\\disney_movies_total_gross.csv')"
   ]
  },
  {
   "cell_type": "code",
   "execution_count": 12,
   "metadata": {},
   "outputs": [],
   "source": [
    "#Rename (mpaa_rating) column to (rating)\n",
    "df.rename(columns={'mpaa_rating' : 'age_rating'}, inplace=True)"
   ]
  },
  {
   "cell_type": "code",
   "execution_count": 13,
   "metadata": {},
   "outputs": [
    {
     "data": {
      "text/html": [
       "<div>\n",
       "<style scoped>\n",
       "    .dataframe tbody tr th:only-of-type {\n",
       "        vertical-align: middle;\n",
       "    }\n",
       "\n",
       "    .dataframe tbody tr th {\n",
       "        vertical-align: top;\n",
       "    }\n",
       "\n",
       "    .dataframe thead th {\n",
       "        text-align: right;\n",
       "    }\n",
       "</style>\n",
       "<table border=\"1\" class=\"dataframe\">\n",
       "  <thead>\n",
       "    <tr style=\"text-align: right;\">\n",
       "      <th></th>\n",
       "      <th>movie_title</th>\n",
       "      <th>release_date</th>\n",
       "      <th>genre</th>\n",
       "      <th>age_rating</th>\n",
       "      <th>total_gross</th>\n",
       "      <th>inflation_adjusted_gross</th>\n",
       "    </tr>\n",
       "  </thead>\n",
       "  <tbody>\n",
       "    <tr>\n",
       "      <th>0</th>\n",
       "      <td>Snow White and the Seven Dwarfs</td>\n",
       "      <td>1937-12-21</td>\n",
       "      <td>Musical</td>\n",
       "      <td>G</td>\n",
       "      <td>184925485</td>\n",
       "      <td>5228953251</td>\n",
       "    </tr>\n",
       "  </tbody>\n",
       "</table>\n",
       "</div>"
      ],
      "text/plain": [
       "                       movie_title release_date    genre age_rating  \\\n",
       "0  Snow White and the Seven Dwarfs   1937-12-21  Musical          G   \n",
       "\n",
       "   total_gross  inflation_adjusted_gross  \n",
       "0    184925485                5228953251  "
      ]
     },
     "execution_count": 13,
     "metadata": {},
     "output_type": "execute_result"
    }
   ],
   "source": [
    "#See changes\n",
    "df.head(1)"
   ]
  },
  {
   "cell_type": "markdown",
   "metadata": {},
   "source": [
    "### Drop Null Values"
   ]
  },
  {
   "cell_type": "code",
   "execution_count": 14,
   "metadata": {},
   "outputs": [
    {
     "data": {
      "text/plain": [
       "movie_title                  0\n",
       "release_date                 0\n",
       "genre                       17\n",
       "age_rating                  56\n",
       "total_gross                  0\n",
       "inflation_adjusted_gross     0\n",
       "dtype: int64"
      ]
     },
     "execution_count": 14,
     "metadata": {},
     "output_type": "execute_result"
    }
   ],
   "source": [
    "#Define number of rows which have null values in (age_rating) and (genre) columns\n",
    "df.isna().sum()"
   ]
  },
  {
   "cell_type": "code",
   "execution_count": 15,
   "metadata": {},
   "outputs": [],
   "source": [
    "#Drop null values rows\n",
    "df.dropna(inplace=True)"
   ]
  },
  {
   "cell_type": "code",
   "execution_count": 16,
   "metadata": {},
   "outputs": [
    {
     "data": {
      "text/plain": [
       "False"
      ]
     },
     "execution_count": 16,
     "metadata": {},
     "output_type": "execute_result"
    }
   ],
   "source": [
    "#Check if rows with null values removed. Expected output is False\n",
    "df.isna().sum().any()"
   ]
  },
  {
   "cell_type": "code",
   "execution_count": 17,
   "metadata": {},
   "outputs": [
    {
     "data": {
      "text/plain": [
       "(513, 6)"
      ]
     },
     "execution_count": 17,
     "metadata": {},
     "output_type": "execute_result"
    }
   ],
   "source": [
    "df.shape"
   ]
  },
  {
   "cell_type": "markdown",
   "metadata": {},
   "source": [
    "### Fix Data Type"
   ]
  },
  {
   "cell_type": "code",
   "execution_count": 18,
   "metadata": {},
   "outputs": [],
   "source": [
    "#Convert data type of (release_date) column to datetime.\n",
    "df['release_date'] = pd.to_datetime(df['release_date'])"
   ]
  },
  {
   "cell_type": "code",
   "execution_count": 19,
   "metadata": {},
   "outputs": [
    {
     "name": "stdout",
     "output_type": "stream",
     "text": [
      "<class 'pandas.core.frame.DataFrame'>\n",
      "Int64Index: 513 entries, 0 to 578\n",
      "Data columns (total 6 columns):\n",
      " #   Column                    Non-Null Count  Dtype         \n",
      "---  ------                    --------------  -----         \n",
      " 0   movie_title               513 non-null    object        \n",
      " 1   release_date              513 non-null    datetime64[ns]\n",
      " 2   genre                     513 non-null    object        \n",
      " 3   age_rating                513 non-null    object        \n",
      " 4   total_gross               513 non-null    int64         \n",
      " 5   inflation_adjusted_gross  513 non-null    int64         \n",
      "dtypes: datetime64[ns](1), int64(2), object(3)\n",
      "memory usage: 28.1+ KB\n"
     ]
    }
   ],
   "source": [
    "#Check changes in data type of ( release_date) column\n",
    "df.info()"
   ]
  },
  {
   "cell_type": "code",
   "execution_count": 20,
   "metadata": {},
   "outputs": [
    {
     "data": {
      "text/plain": [
       "movie_title                         object\n",
       "release_date                datetime64[ns]\n",
       "genre                               object\n",
       "age_rating                          object\n",
       "total_gross                          int64\n",
       "inflation_adjusted_gross             int64\n",
       "dtype: object"
      ]
     },
     "execution_count": 20,
     "metadata": {},
     "output_type": "execute_result"
    }
   ],
   "source": [
    "df.dtypes"
   ]
  },
  {
   "cell_type": "markdown",
   "metadata": {},
   "source": [
    "### Make Column Meaning More Clearly"
   ]
  },
  {
   "cell_type": "code",
   "execution_count": 21,
   "metadata": {},
   "outputs": [
    {
     "data": {
      "text/plain": [
       "PG           185\n",
       "PG-13        141\n",
       "R             98\n",
       "G             86\n",
       "Not Rated      3\n",
       "Name: age_rating, dtype: int64"
      ]
     },
     "execution_count": 21,
     "metadata": {},
     "output_type": "execute_result"
    }
   ],
   "source": [
    "#Make (age_rating) column data more understandable by rename rating levels.\n",
    "\n",
    "#PG    --> Parental Guidance Suggested  --> (Parent Guidance)\n",
    "#PG-13 --> Parents Strongly Cautioned   --> (+13 & Parent Guidance)\n",
    "#R     --> Restricted Under 17 requires accompanying parent or adult guardian --> (-17 & Parent Guidance)\n",
    "#G     --> General Audiences --> (All)\n",
    "#Not Rated\n",
    "\n",
    "df['age_rating'].value_counts()"
   ]
  },
  {
   "cell_type": "code",
   "execution_count": 22,
   "metadata": {},
   "outputs": [],
   "source": [
    "#Replace values in (age_rating) to another values which explained above\n",
    "df['age_rating'].replace({\"PG\":\"Parent Guidance\", \"PG-13\":\"+13 & Parent Guidance\", \"R\":\"-17 & Parent Guidance\", \"G\":\"All\"}, inplace=True)"
   ]
  },
  {
   "cell_type": "code",
   "execution_count": 23,
   "metadata": {},
   "outputs": [
    {
     "data": {
      "text/html": [
       "<div>\n",
       "<style scoped>\n",
       "    .dataframe tbody tr th:only-of-type {\n",
       "        vertical-align: middle;\n",
       "    }\n",
       "\n",
       "    .dataframe tbody tr th {\n",
       "        vertical-align: top;\n",
       "    }\n",
       "\n",
       "    .dataframe thead th {\n",
       "        text-align: right;\n",
       "    }\n",
       "</style>\n",
       "<table border=\"1\" class=\"dataframe\">\n",
       "  <thead>\n",
       "    <tr style=\"text-align: right;\">\n",
       "      <th></th>\n",
       "      <th>movie_title</th>\n",
       "      <th>release_date</th>\n",
       "      <th>genre</th>\n",
       "      <th>age_rating</th>\n",
       "      <th>total_gross</th>\n",
       "      <th>inflation_adjusted_gross</th>\n",
       "    </tr>\n",
       "  </thead>\n",
       "  <tbody>\n",
       "    <tr>\n",
       "      <th>574</th>\n",
       "      <td>The Light Between Oceans</td>\n",
       "      <td>2016-09-02</td>\n",
       "      <td>Drama</td>\n",
       "      <td>+13 &amp; Parent Guidance</td>\n",
       "      <td>12545979</td>\n",
       "      <td>12545979</td>\n",
       "    </tr>\n",
       "    <tr>\n",
       "      <th>575</th>\n",
       "      <td>Queen of Katwe</td>\n",
       "      <td>2016-09-23</td>\n",
       "      <td>Drama</td>\n",
       "      <td>Parent Guidance</td>\n",
       "      <td>8874389</td>\n",
       "      <td>8874389</td>\n",
       "    </tr>\n",
       "    <tr>\n",
       "      <th>576</th>\n",
       "      <td>Doctor Strange</td>\n",
       "      <td>2016-11-04</td>\n",
       "      <td>Adventure</td>\n",
       "      <td>+13 &amp; Parent Guidance</td>\n",
       "      <td>232532923</td>\n",
       "      <td>232532923</td>\n",
       "    </tr>\n",
       "    <tr>\n",
       "      <th>577</th>\n",
       "      <td>Moana</td>\n",
       "      <td>2016-11-23</td>\n",
       "      <td>Adventure</td>\n",
       "      <td>Parent Guidance</td>\n",
       "      <td>246082029</td>\n",
       "      <td>246082029</td>\n",
       "    </tr>\n",
       "    <tr>\n",
       "      <th>578</th>\n",
       "      <td>Rogue One: A Star Wars Story</td>\n",
       "      <td>2016-12-16</td>\n",
       "      <td>Adventure</td>\n",
       "      <td>+13 &amp; Parent Guidance</td>\n",
       "      <td>529483936</td>\n",
       "      <td>529483936</td>\n",
       "    </tr>\n",
       "  </tbody>\n",
       "</table>\n",
       "</div>"
      ],
      "text/plain": [
       "                      movie_title release_date      genre  \\\n",
       "574      The Light Between Oceans   2016-09-02      Drama   \n",
       "575                Queen of Katwe   2016-09-23      Drama   \n",
       "576                Doctor Strange   2016-11-04  Adventure   \n",
       "577                         Moana   2016-11-23  Adventure   \n",
       "578  Rogue One: A Star Wars Story   2016-12-16  Adventure   \n",
       "\n",
       "                age_rating  total_gross  inflation_adjusted_gross  \n",
       "574  +13 & Parent Guidance     12545979                  12545979  \n",
       "575        Parent Guidance      8874389                   8874389  \n",
       "576  +13 & Parent Guidance    232532923                 232532923  \n",
       "577        Parent Guidance    246082029                 246082029  \n",
       "578  +13 & Parent Guidance    529483936                 529483936  "
      ]
     },
     "execution_count": 23,
     "metadata": {},
     "output_type": "execute_result"
    }
   ],
   "source": [
    "df.tail()"
   ]
  },
  {
   "cell_type": "code",
   "execution_count": 24,
   "metadata": {},
   "outputs": [
    {
     "data": {
      "text/plain": [
       "Parent Guidance          185\n",
       "+13 & Parent Guidance    141\n",
       "-17 & Parent Guidance     98\n",
       "All                       86\n",
       "Not Rated                  3\n",
       "Name: age_rating, dtype: int64"
      ]
     },
     "execution_count": 24,
     "metadata": {},
     "output_type": "execute_result"
    }
   ],
   "source": [
    "#Check changes\n",
    "df['age_rating'].value_counts()"
   ]
  },
  {
   "cell_type": "code",
   "execution_count": 25,
   "metadata": {},
   "outputs": [],
   "source": [
    "#Save our clean data to new file\n",
    "df.to_csv('D:\\Data Science\\Disney Data\\kgarrett-disney-character-success-00-16\\data\\clean_disney_data.csv')"
   ]
  },
  {
   "cell_type": "markdown",
   "metadata": {},
   "source": [
    "## Exploring Data File with Visuals"
   ]
  },
  {
   "cell_type": "code",
   "execution_count": 41,
   "metadata": {},
   "outputs": [],
   "source": [
    "#Load dataset\n",
    "import pandas as pd\n",
    "import matplotlib.pyplot as plt\n",
    "import seaborn as sns\n",
    "df_movies = pd.read_csv('D:\\Data Science\\Disney Data\\kgarrett-disney-character-success-00-16\\data\\clean_disney_data.csv')"
   ]
  },
  {
   "cell_type": "code",
   "execution_count": 80,
   "metadata": {},
   "outputs": [
    {
     "data": {
      "text/plain": [
       "Text(0.5, 1.0, 'The Number of Movies per Genre')"
      ]
     },
     "execution_count": 80,
     "metadata": {},
     "output_type": "execute_result"
    },
    {
     "data": {
      "image/png": "[encoded data removed]",
      "text/plain": [
       "<Figure size 720x360 with 1 Axes>"
      ]
     },
     "metadata": {},
     "output_type": "display_data"
    }
   ],
   "source": [
    "#Explore the number of movies per genre\n",
    "sns.countplot(x='genre', data=df_movies, order=df_movies['genre'].value_counts().index, palette='husl')\n",
    "sns.set(rc = {'figure.figsize':(10,5)})\n",
    "plt.xticks(rotation=90)\n",
    "plt.title(\"The Number of Movies per Genre\")"
   ]
  },
  {
   "cell_type": "code",
   "execution_count": 96,
   "metadata": {},
   "outputs": [
    {
     "data": {
      "text/html": [
       "<div>\n",
       "<style scoped>\n",
       "    .dataframe tbody tr th:only-of-type {\n",
       "        vertical-align: middle;\n",
       "    }\n",
       "\n",
       "    .dataframe tbody tr th {\n",
       "        vertical-align: top;\n",
       "    }\n",
       "\n",
       "    .dataframe thead th {\n",
       "        text-align: right;\n",
       "    }\n",
       "</style>\n",
       "<table border=\"1\" class=\"dataframe\">\n",
       "  <thead>\n",
       "    <tr style=\"text-align: right;\">\n",
       "      <th></th>\n",
       "      <th>Unnamed: 0</th>\n",
       "      <th>movie_title</th>\n",
       "      <th>release_date</th>\n",
       "      <th>genre</th>\n",
       "      <th>age_rating</th>\n",
       "      <th>total_gross</th>\n",
       "      <th>inflation_adjusted_gross</th>\n",
       "    </tr>\n",
       "  </thead>\n",
       "  <tbody>\n",
       "    <tr>\n",
       "      <th>498</th>\n",
       "      <td>564</td>\n",
       "      <td>Star Wars Ep. VII: The Force Awakens</td>\n",
       "      <td>2015-12-18</td>\n",
       "      <td>Adventure</td>\n",
       "      <td>+13 &amp; Parent Guidance</td>\n",
       "      <td>936662225</td>\n",
       "      <td>936662225</td>\n",
       "    </tr>\n",
       "    <tr>\n",
       "      <th>458</th>\n",
       "      <td>524</td>\n",
       "      <td>The Avengers</td>\n",
       "      <td>2012-05-04</td>\n",
       "      <td>Action</td>\n",
       "      <td>+13 &amp; Parent Guidance</td>\n",
       "      <td>623279547</td>\n",
       "      <td>660081224</td>\n",
       "    </tr>\n",
       "    <tr>\n",
       "      <th>512</th>\n",
       "      <td>578</td>\n",
       "      <td>Rogue One: A Star Wars Story</td>\n",
       "      <td>2016-12-16</td>\n",
       "      <td>Adventure</td>\n",
       "      <td>+13 &amp; Parent Guidance</td>\n",
       "      <td>529483936</td>\n",
       "      <td>529483936</td>\n",
       "    </tr>\n",
       "    <tr>\n",
       "      <th>505</th>\n",
       "      <td>571</td>\n",
       "      <td>Finding Dory</td>\n",
       "      <td>2016-06-17</td>\n",
       "      <td>Adventure</td>\n",
       "      <td>Parent Guidance</td>\n",
       "      <td>486295561</td>\n",
       "      <td>486295561</td>\n",
       "    </tr>\n",
       "    <tr>\n",
       "      <th>492</th>\n",
       "      <td>558</td>\n",
       "      <td>Avengers: Age of Ultron</td>\n",
       "      <td>2015-05-01</td>\n",
       "      <td>Action</td>\n",
       "      <td>+13 &amp; Parent Guidance</td>\n",
       "      <td>459005868</td>\n",
       "      <td>459005868</td>\n",
       "    </tr>\n",
       "    <tr>\n",
       "      <th>375</th>\n",
       "      <td>441</td>\n",
       "      <td>Pirates of the Caribbean: Dead Man’…</td>\n",
       "      <td>2006-07-07</td>\n",
       "      <td>Adventure</td>\n",
       "      <td>+13 &amp; Parent Guidance</td>\n",
       "      <td>423315812</td>\n",
       "      <td>544817142</td>\n",
       "    </tr>\n",
       "    <tr>\n",
       "      <th>118</th>\n",
       "      <td>179</td>\n",
       "      <td>The Lion King</td>\n",
       "      <td>1994-06-15</td>\n",
       "      <td>Adventure</td>\n",
       "      <td>All</td>\n",
       "      <td>422780140</td>\n",
       "      <td>761640898</td>\n",
       "    </tr>\n",
       "    <tr>\n",
       "      <th>433</th>\n",
       "      <td>499</td>\n",
       "      <td>Toy Story 3</td>\n",
       "      <td>2010-06-18</td>\n",
       "      <td>Adventure</td>\n",
       "      <td>All</td>\n",
       "      <td>415004880</td>\n",
       "      <td>443408255</td>\n",
       "    </tr>\n",
       "    <tr>\n",
       "      <th>466</th>\n",
       "      <td>532</td>\n",
       "      <td>Iron Man 3</td>\n",
       "      <td>2013-05-03</td>\n",
       "      <td>Action</td>\n",
       "      <td>+13 &amp; Parent Guidance</td>\n",
       "      <td>408992272</td>\n",
       "      <td>424084233</td>\n",
       "    </tr>\n",
       "    <tr>\n",
       "      <th>503</th>\n",
       "      <td>569</td>\n",
       "      <td>Captain America: Civil War</td>\n",
       "      <td>2016-05-06</td>\n",
       "      <td>Action</td>\n",
       "      <td>+13 &amp; Parent Guidance</td>\n",
       "      <td>408084349</td>\n",
       "      <td>408084349</td>\n",
       "    </tr>\n",
       "  </tbody>\n",
       "</table>\n",
       "</div>"
      ],
      "text/plain": [
       "     Unnamed: 0                           movie_title release_date      genre  \\\n",
       "498         564  Star Wars Ep. VII: The Force Awakens   2015-12-18  Adventure   \n",
       "458         524                          The Avengers   2012-05-04     Action   \n",
       "512         578          Rogue One: A Star Wars Story   2016-12-16  Adventure   \n",
       "505         571                          Finding Dory   2016-06-17  Adventure   \n",
       "492         558               Avengers: Age of Ultron   2015-05-01     Action   \n",
       "375         441  Pirates of the Caribbean: Dead Man’…   2006-07-07  Adventure   \n",
       "118         179                         The Lion King   1994-06-15  Adventure   \n",
       "433         499                           Toy Story 3   2010-06-18  Adventure   \n",
       "466         532                            Iron Man 3   2013-05-03     Action   \n",
       "503         569            Captain America: Civil War   2016-05-06     Action   \n",
       "\n",
       "                age_rating  total_gross  inflation_adjusted_gross  \n",
       "498  +13 & Parent Guidance    936662225                 936662225  \n",
       "458  +13 & Parent Guidance    623279547                 660081224  \n",
       "512  +13 & Parent Guidance    529483936                 529483936  \n",
       "505        Parent Guidance    486295561                 486295561  \n",
       "492  +13 & Parent Guidance    459005868                 459005868  \n",
       "375  +13 & Parent Guidance    423315812                 544817142  \n",
       "118                    All    422780140                 761640898  \n",
       "433                    All    415004880                 443408255  \n",
       "466  +13 & Parent Guidance    408992272                 424084233  \n",
       "503  +13 & Parent Guidance    408084349                 408084349  "
      ]
     },
     "execution_count": 96,
     "metadata": {},
     "output_type": "execute_result"
    }
   ],
   "source": [
    "#Top 10 total gross movies\n",
    "df_movies.nlargest(10, ['total_gross', 'inflation_adjusted_gross'])"
   ]
  },
  {
   "cell_type": "code",
   "execution_count": 109,
   "metadata": {},
   "outputs": [
    {
     "data": {
      "image/png": "[encoded data removed]",
      "text/plain": [
       "<Figure size 720x360 with 1 Axes>"
      ]
     },
     "metadata": {},
     "output_type": "display_data"
    }
   ],
   "source": [
    "#Number of movies per age rating as we know above:\n",
    "#Parent Guidance          185\n",
    "#+13 & Parent Guidance    141\n",
    "#-17 & Parent Guidance     98\n",
    "#All                       86\n",
    "#Not Rated                  3\n",
    "\n",
    "slices = [185, 141, 98, 86, 3]\n",
    "labels = ['Parent Guidance', '+13 & Parent Guidance', '-17 & Parent Guidance', 'All', 'Not Rated']\n",
    "plt.pie(slices, labels=labels, shadow=True, startangle=90, autopct='%5.0f%%',\n",
    "        labeldistance=1.15, wedgeprops = { 'linewidth' : 3, 'edgecolor' : 'white' })\n",
    "\n",
    "plt.title(\"The Number of Movies per Age Rating\")\n",
    "plt.tight_layout()\n",
    "plt.show()"
   ]
  },
  {
   "cell_type": "code",
   "execution_count": null,
   "metadata": {},
   "outputs": [],
   "source": []
  }
 ],
 "metadata": {
  "kernelspec": {
   "display_name": "Python 3",
   "language": "python",
   "name": "python3"
  },
  "language_info": {
   "codemirror_mode": {
    "name": "ipython",
    "version": 3
   },
   "file_extension": ".py",
   "mimetype": "text/x-python",
   "name": "python",
   "nbconvert_exporter": "python",
   "pygments_lexer": "ipython3",
   "version": "3.8.5"
  }
 },
 "nbformat": 4,
 "nbformat_minor": 4
}
